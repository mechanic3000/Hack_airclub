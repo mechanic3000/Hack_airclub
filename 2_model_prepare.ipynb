{
 "cells": [
  {
   "cell_type": "code",
   "execution_count": 33,
   "id": "82ce973a",
   "metadata": {},
   "outputs": [],
   "source": [
    "import pandas as pd\n",
    "import numpy as np\n",
    "\n",
    "import warnings\n",
    "warnings.filterwarnings('ignore')\n",
    "\n",
    "from airclub_class import AeroclubPipeline\n",
    "\n",
    "from sklearn.metrics import classification_report\n",
    "from sklearn.metrics import r2_score, roc_auc_score, confusion_matrix, ConfusionMatrixDisplay\n",
    "from matplotlib import pyplot as plt\n",
    "import seaborn as sns\n",
    "\n",
    "# перезагрузка модуля \n",
    "import importlib, sys\n",
    "AeroclubPipeline = importlib.reload(sys.modules['airclub_class']).AeroclubPipeline"
   ]
  },
  {
   "cell_type": "markdown",
   "id": "5b596d09",
   "metadata": {},
   "source": [
    "### Зазгузка датасета"
   ]
  },
  {
   "cell_type": "code",
   "execution_count": 5,
   "id": "2efb2bfe",
   "metadata": {},
   "outputs": [],
   "source": [
    "df = pd.read_excel('./Data/RequestAgent.xlsx')"
   ]
  },
  {
   "cell_type": "markdown",
   "id": "4953f736",
   "metadata": {},
   "source": [
    "### Разобъем датасет на тест и трейн"
   ]
  },
  {
   "cell_type": "markdown",
   "id": "979dd663",
   "metadata": {},
   "source": [
    "Данные представлены за 6 месяцев. Возьмем на тест последний месяц, остальные оставим на обучение."
   ]
  },
  {
   "cell_type": "code",
   "execution_count": 6,
   "id": "11c33379",
   "metadata": {},
   "outputs": [],
   "source": [
    "df.RequestDate = pd.to_datetime(df.RequestDate)"
   ]
  },
  {
   "cell_type": "code",
   "execution_count": 7,
   "id": "d01215fa",
   "metadata": {},
   "outputs": [],
   "source": [
    "train_df = df[df.RequestDate < pd.to_datetime('2022-11-30')]\n",
    "test_df = df[df.RequestDate >= pd.to_datetime('2022-11-30')]"
   ]
  },
  {
   "cell_type": "code",
   "execution_count": 8,
   "id": "297438f1",
   "metadata": {},
   "outputs": [],
   "source": [
    "train_target = train_df['SentOption']\n",
    "test_target = test_df['SentOption']"
   ]
  },
  {
   "cell_type": "code",
   "execution_count": 9,
   "id": "2b95011b",
   "metadata": {},
   "outputs": [
    {
     "data": {
      "text/plain": [
       "(9265, 874)"
      ]
     },
     "execution_count": 9,
     "metadata": {},
     "output_type": "execute_result"
    }
   ],
   "source": [
    "len(train_df.RequestID.unique()),  len(test_df.RequestID.unique())"
   ]
  },
  {
   "cell_type": "markdown",
   "id": "d3333daa",
   "metadata": {},
   "source": [
    "### Загрузим модель и подготовим новые фичи"
   ]
  },
  {
   "cell_type": "code",
   "execution_count": 2,
   "id": "0a0fd098",
   "metadata": {
    "scrolled": true
   },
   "outputs": [],
   "source": [
    "pipeline = AeroclubPipeline()"
   ]
  },
  {
   "cell_type": "code",
   "execution_count": 23,
   "id": "0542e8eb",
   "metadata": {
    "scrolled": true
   },
   "outputs": [
    {
     "name": "stderr",
     "output_type": "stream",
     "text": [
      "100%|█████████████████████████████████| 580045/580045 [01:32<00:00, 6263.63it/s]\n",
      "Set timezones 1/4: 100%|██████████████████████| 306/306 [00:20<00:00, 15.06it/s]\n",
      "Set timezones 2/4: 100%|██████████████████████| 333/333 [00:20<00:00, 16.19it/s]\n",
      "Set timezones 3/4: 100%|██████████████████████| 223/223 [00:13<00:00, 16.74it/s]\n",
      "Set timezones 4/4: 100%|██████████████████████| 153/153 [00:07<00:00, 20.72it/s]\n"
     ]
    }
   ],
   "source": [
    "train_df = pipeline.transform(train_df)"
   ]
  },
  {
   "cell_type": "code",
   "execution_count": null,
   "id": "e9cbb3a4",
   "metadata": {},
   "outputs": [],
   "source": [
    "pipeline.fit(train_df, train_target)"
   ]
  },
  {
   "cell_type": "code",
   "execution_count": null,
   "id": "75ad2225",
   "metadata": {},
   "outputs": [],
   "source": [
    "# pipeline.save_model('./Project/Model/ctb_clsf_model.cbm')"
   ]
  },
  {
   "cell_type": "code",
   "execution_count": 3,
   "id": "e14665c8",
   "metadata": {},
   "outputs": [],
   "source": [
    "pipeline.load_model('./Model/ctb_clsf_model.cbm')"
   ]
  },
  {
   "cell_type": "code",
   "execution_count": 10,
   "id": "b01105a9",
   "metadata": {},
   "outputs": [
    {
     "name": "stderr",
     "output_type": "stream",
     "text": [
      "100%|███████████████████████████████████| 57357/57357 [00:09<00:00, 6091.29it/s]\n",
      "Set timezones 1/4: 100%|██████████████████████| 107/107 [00:02<00:00, 48.59it/s]\n",
      "Set timezones 2/4: 100%|██████████████████████| 135/135 [00:03<00:00, 40.11it/s]\n",
      "Set timezones 3/4: 100%|████████████████████████| 82/82 [00:01<00:00, 70.54it/s]\n",
      "Set timezones 4/4: 100%|████████████████████████| 44/44 [00:00<00:00, 65.22it/s]\n"
     ]
    }
   ],
   "source": [
    "test_df = pipeline.transform(test_df)"
   ]
  },
  {
   "cell_type": "code",
   "execution_count": 94,
   "id": "2f7050b9",
   "metadata": {},
   "outputs": [],
   "source": [
    "test_predict = pipeline.predict(test_df)"
   ]
  },
  {
   "cell_type": "code",
   "execution_count": 96,
   "id": "4b52cc45",
   "metadata": {},
   "outputs": [
    {
     "name": "stdout",
     "output_type": "stream",
     "text": [
      "              precision    recall  f1-score   support\n",
      "\n",
      "           0       0.97      1.00      0.98     55329\n",
      "           1       0.23      0.02      0.04      2028\n",
      "\n",
      "    accuracy                           0.96     57357\n",
      "   macro avg       0.60      0.51      0.51     57357\n",
      "weighted avg       0.94      0.96      0.95     57357\n",
      "\n"
     ]
    }
   ],
   "source": [
    "print(classification_report(test_target, test_predict))"
   ]
  },
  {
   "cell_type": "code",
   "execution_count": 27,
   "id": "7f5286d7",
   "metadata": {},
   "outputs": [],
   "source": [
    "from catboost import CatBoostClassifier, Pool\n",
    "# ctb_clsf_model = CatBoostClassifier(random_seed=42, cat_features=pipeline.cat_feats, silent=False,\n",
    "#                                    depth=5, l2_leaf_reg=3, learning_rate=0.03, iterations=500, use_best_model=True,\n",
    "#                                    early_stopping_rounds=10)\n"
   ]
  },
  {
   "cell_type": "code",
   "execution_count": 51,
   "id": "8c68bc87",
   "metadata": {},
   "outputs": [
    {
     "data": {
      "text/plain": [
       "['Amount',\n",
       " 'To_flight_dur',\n",
       " 'Return_flight_dur',\n",
       " 'diff_betw_dep_time',\n",
       " 'diff_betw_arr_time',\n",
       " 'One_sec_cost',\n",
       " 'SegmentCount',\n",
       " 'IsBaggage',\n",
       " 'isRefundPermitted',\n",
       " 'isExchangePermitted',\n",
       " 'isDiscount',\n",
       " 'InTravelPolicy',\n",
       " 'SearchRouteFrom1',\n",
       " 'SearchRouteTo1',\n",
       " 'SearchRouteFrom2',\n",
       " 'SearchRouteTo2',\n",
       " 'Airlanes_enc']"
      ]
     },
     "execution_count": 51,
     "metadata": {},
     "output_type": "execute_result"
    }
   ],
   "source": [
    "train_pool.get_feature_names()"
   ]
  },
  {
   "cell_type": "code",
   "execution_count": 52,
   "id": "b083cc7c",
   "metadata": {},
   "outputs": [
    {
     "data": {
      "text/html": [
       "<div>\n",
       "<style scoped>\n",
       "    .dataframe tbody tr th:only-of-type {\n",
       "        vertical-align: middle;\n",
       "    }\n",
       "\n",
       "    .dataframe tbody tr th {\n",
       "        vertical-align: top;\n",
       "    }\n",
       "\n",
       "    .dataframe thead th {\n",
       "        text-align: right;\n",
       "    }\n",
       "</style>\n",
       "<table border=\"1\" class=\"dataframe\">\n",
       "  <thead>\n",
       "    <tr style=\"text-align: right;\">\n",
       "      <th></th>\n",
       "      <th>Amount</th>\n",
       "      <th>To_flight_dur</th>\n",
       "      <th>Return_flight_dur</th>\n",
       "      <th>diff_betw_dep_time</th>\n",
       "      <th>diff_betw_arr_time</th>\n",
       "      <th>One_sec_cost</th>\n",
       "      <th>SegmentCount</th>\n",
       "      <th>IsBaggage</th>\n",
       "      <th>isRefundPermitted</th>\n",
       "      <th>isExchangePermitted</th>\n",
       "      <th>isDiscount</th>\n",
       "      <th>InTravelPolicy</th>\n",
       "      <th>SearchRouteFrom1</th>\n",
       "      <th>SearchRouteTo1</th>\n",
       "      <th>SearchRouteFrom2</th>\n",
       "      <th>SearchRouteTo2</th>\n",
       "      <th>Airlanes_enc</th>\n",
       "    </tr>\n",
       "  </thead>\n",
       "  <tbody>\n",
       "    <tr>\n",
       "      <th>0</th>\n",
       "      <td>14356.0</td>\n",
       "      <td>11400.0</td>\n",
       "      <td>10500.0</td>\n",
       "      <td>6900.0</td>\n",
       "      <td>1.770000e+04</td>\n",
       "      <td>1.259298</td>\n",
       "      <td>2</td>\n",
       "      <td>0.0</td>\n",
       "      <td>1.0</td>\n",
       "      <td>1.0</td>\n",
       "      <td>0</td>\n",
       "      <td>1</td>\n",
       "      <td>TJM</td>\n",
       "      <td>LED</td>\n",
       "      <td>LED</td>\n",
       "      <td>TJM</td>\n",
       "      <td>844</td>\n",
       "    </tr>\n",
       "    <tr>\n",
       "      <th>1</th>\n",
       "      <td>23712.0</td>\n",
       "      <td>11400.0</td>\n",
       "      <td>10500.0</td>\n",
       "      <td>0.0</td>\n",
       "      <td>1.770000e+04</td>\n",
       "      <td>2.080000</td>\n",
       "      <td>2</td>\n",
       "      <td>1.0</td>\n",
       "      <td>1.0</td>\n",
       "      <td>1.0</td>\n",
       "      <td>0</td>\n",
       "      <td>0</td>\n",
       "      <td>TJM</td>\n",
       "      <td>LED</td>\n",
       "      <td>LED</td>\n",
       "      <td>TJM</td>\n",
       "      <td>841</td>\n",
       "    </tr>\n",
       "    <tr>\n",
       "      <th>2</th>\n",
       "      <td>21485.0</td>\n",
       "      <td>11400.0</td>\n",
       "      <td>10500.0</td>\n",
       "      <td>0.0</td>\n",
       "      <td>1.770000e+04</td>\n",
       "      <td>1.884649</td>\n",
       "      <td>2</td>\n",
       "      <td>1.0</td>\n",
       "      <td>1.0</td>\n",
       "      <td>1.0</td>\n",
       "      <td>1</td>\n",
       "      <td>0</td>\n",
       "      <td>TJM</td>\n",
       "      <td>LED</td>\n",
       "      <td>LED</td>\n",
       "      <td>TJM</td>\n",
       "      <td>841</td>\n",
       "    </tr>\n",
       "    <tr>\n",
       "      <th>3</th>\n",
       "      <td>18212.0</td>\n",
       "      <td>11400.0</td>\n",
       "      <td>10500.0</td>\n",
       "      <td>0.0</td>\n",
       "      <td>1.770000e+04</td>\n",
       "      <td>1.597544</td>\n",
       "      <td>2</td>\n",
       "      <td>1.0</td>\n",
       "      <td>1.0</td>\n",
       "      <td>9999.0</td>\n",
       "      <td>0</td>\n",
       "      <td>0</td>\n",
       "      <td>TJM</td>\n",
       "      <td>LED</td>\n",
       "      <td>LED</td>\n",
       "      <td>TJM</td>\n",
       "      <td>841</td>\n",
       "    </tr>\n",
       "    <tr>\n",
       "      <th>4</th>\n",
       "      <td>17360.0</td>\n",
       "      <td>11400.0</td>\n",
       "      <td>10500.0</td>\n",
       "      <td>0.0</td>\n",
       "      <td>1.770000e+04</td>\n",
       "      <td>1.522807</td>\n",
       "      <td>2</td>\n",
       "      <td>1.0</td>\n",
       "      <td>1.0</td>\n",
       "      <td>1.0</td>\n",
       "      <td>1</td>\n",
       "      <td>1</td>\n",
       "      <td>TJM</td>\n",
       "      <td>LED</td>\n",
       "      <td>LED</td>\n",
       "      <td>TJM</td>\n",
       "      <td>841</td>\n",
       "    </tr>\n",
       "    <tr>\n",
       "      <th>...</th>\n",
       "      <td>...</td>\n",
       "      <td>...</td>\n",
       "      <td>...</td>\n",
       "      <td>...</td>\n",
       "      <td>...</td>\n",
       "      <td>...</td>\n",
       "      <td>...</td>\n",
       "      <td>...</td>\n",
       "      <td>...</td>\n",
       "      <td>...</td>\n",
       "      <td>...</td>\n",
       "      <td>...</td>\n",
       "      <td>...</td>\n",
       "      <td>...</td>\n",
       "      <td>...</td>\n",
       "      <td>...</td>\n",
       "      <td>...</td>\n",
       "    </tr>\n",
       "    <tr>\n",
       "      <th>580040</th>\n",
       "      <td>15713.0</td>\n",
       "      <td>6600.0</td>\n",
       "      <td>0.0</td>\n",
       "      <td>52800.0</td>\n",
       "      <td>3.878815e+09</td>\n",
       "      <td>2.380758</td>\n",
       "      <td>1</td>\n",
       "      <td>1.0</td>\n",
       "      <td>9999.0</td>\n",
       "      <td>9999.0</td>\n",
       "      <td>0</td>\n",
       "      <td>1</td>\n",
       "      <td>MMK</td>\n",
       "      <td>LED</td>\n",
       "      <td></td>\n",
       "      <td></td>\n",
       "      <td>841</td>\n",
       "    </tr>\n",
       "    <tr>\n",
       "      <th>580041</th>\n",
       "      <td>11333.0</td>\n",
       "      <td>6600.0</td>\n",
       "      <td>0.0</td>\n",
       "      <td>43500.0</td>\n",
       "      <td>3.878805e+09</td>\n",
       "      <td>1.717121</td>\n",
       "      <td>1</td>\n",
       "      <td>1.0</td>\n",
       "      <td>9999.0</td>\n",
       "      <td>9999.0</td>\n",
       "      <td>0</td>\n",
       "      <td>1</td>\n",
       "      <td>MMK</td>\n",
       "      <td>LED</td>\n",
       "      <td></td>\n",
       "      <td></td>\n",
       "      <td>841</td>\n",
       "    </tr>\n",
       "    <tr>\n",
       "      <th>580042</th>\n",
       "      <td>14333.0</td>\n",
       "      <td>6600.0</td>\n",
       "      <td>0.0</td>\n",
       "      <td>43500.0</td>\n",
       "      <td>3.878805e+09</td>\n",
       "      <td>2.171667</td>\n",
       "      <td>1</td>\n",
       "      <td>1.0</td>\n",
       "      <td>9999.0</td>\n",
       "      <td>9999.0</td>\n",
       "      <td>0</td>\n",
       "      <td>1</td>\n",
       "      <td>MMK</td>\n",
       "      <td>LED</td>\n",
       "      <td></td>\n",
       "      <td></td>\n",
       "      <td>841</td>\n",
       "    </tr>\n",
       "    <tr>\n",
       "      <th>580043</th>\n",
       "      <td>12713.0</td>\n",
       "      <td>6600.0</td>\n",
       "      <td>0.0</td>\n",
       "      <td>74100.0</td>\n",
       "      <td>3.878836e+09</td>\n",
       "      <td>1.926212</td>\n",
       "      <td>1</td>\n",
       "      <td>1.0</td>\n",
       "      <td>9999.0</td>\n",
       "      <td>9999.0</td>\n",
       "      <td>0</td>\n",
       "      <td>1</td>\n",
       "      <td>MMK</td>\n",
       "      <td>LED</td>\n",
       "      <td></td>\n",
       "      <td></td>\n",
       "      <td>841</td>\n",
       "    </tr>\n",
       "    <tr>\n",
       "      <th>580044</th>\n",
       "      <td>15713.0</td>\n",
       "      <td>6600.0</td>\n",
       "      <td>0.0</td>\n",
       "      <td>74100.0</td>\n",
       "      <td>3.878836e+09</td>\n",
       "      <td>2.380758</td>\n",
       "      <td>1</td>\n",
       "      <td>1.0</td>\n",
       "      <td>9999.0</td>\n",
       "      <td>9999.0</td>\n",
       "      <td>0</td>\n",
       "      <td>1</td>\n",
       "      <td>MMK</td>\n",
       "      <td>LED</td>\n",
       "      <td></td>\n",
       "      <td></td>\n",
       "      <td>841</td>\n",
       "    </tr>\n",
       "  </tbody>\n",
       "</table>\n",
       "<p>580045 rows × 17 columns</p>\n",
       "</div>"
      ],
      "text/plain": [
       "         Amount  To_flight_dur  Return_flight_dur  diff_betw_dep_time  \\\n",
       "0       14356.0        11400.0            10500.0              6900.0   \n",
       "1       23712.0        11400.0            10500.0                 0.0   \n",
       "2       21485.0        11400.0            10500.0                 0.0   \n",
       "3       18212.0        11400.0            10500.0                 0.0   \n",
       "4       17360.0        11400.0            10500.0                 0.0   \n",
       "...         ...            ...                ...                 ...   \n",
       "580040  15713.0         6600.0                0.0             52800.0   \n",
       "580041  11333.0         6600.0                0.0             43500.0   \n",
       "580042  14333.0         6600.0                0.0             43500.0   \n",
       "580043  12713.0         6600.0                0.0             74100.0   \n",
       "580044  15713.0         6600.0                0.0             74100.0   \n",
       "\n",
       "        diff_betw_arr_time  One_sec_cost SegmentCount IsBaggage  \\\n",
       "0             1.770000e+04      1.259298            2       0.0   \n",
       "1             1.770000e+04      2.080000            2       1.0   \n",
       "2             1.770000e+04      1.884649            2       1.0   \n",
       "3             1.770000e+04      1.597544            2       1.0   \n",
       "4             1.770000e+04      1.522807            2       1.0   \n",
       "...                    ...           ...          ...       ...   \n",
       "580040        3.878815e+09      2.380758            1       1.0   \n",
       "580041        3.878805e+09      1.717121            1       1.0   \n",
       "580042        3.878805e+09      2.171667            1       1.0   \n",
       "580043        3.878836e+09      1.926212            1       1.0   \n",
       "580044        3.878836e+09      2.380758            1       1.0   \n",
       "\n",
       "       isRefundPermitted isExchangePermitted isDiscount InTravelPolicy  \\\n",
       "0                    1.0                 1.0          0              1   \n",
       "1                    1.0                 1.0          0              0   \n",
       "2                    1.0                 1.0          1              0   \n",
       "3                    1.0              9999.0          0              0   \n",
       "4                    1.0                 1.0          1              1   \n",
       "...                  ...                 ...        ...            ...   \n",
       "580040            9999.0              9999.0          0              1   \n",
       "580041            9999.0              9999.0          0              1   \n",
       "580042            9999.0              9999.0          0              1   \n",
       "580043            9999.0              9999.0          0              1   \n",
       "580044            9999.0              9999.0          0              1   \n",
       "\n",
       "       SearchRouteFrom1 SearchRouteTo1 SearchRouteFrom2 SearchRouteTo2  \\\n",
       "0                   TJM            LED              LED            TJM   \n",
       "1                   TJM            LED              LED            TJM   \n",
       "2                   TJM            LED              LED            TJM   \n",
       "3                   TJM            LED              LED            TJM   \n",
       "4                   TJM            LED              LED            TJM   \n",
       "...                 ...            ...              ...            ...   \n",
       "580040              MMK            LED                                   \n",
       "580041              MMK            LED                                   \n",
       "580042              MMK            LED                                   \n",
       "580043              MMK            LED                                   \n",
       "580044              MMK            LED                                   \n",
       "\n",
       "       Airlanes_enc  \n",
       "0               844  \n",
       "1               841  \n",
       "2               841  \n",
       "3               841  \n",
       "4               841  \n",
       "...             ...  \n",
       "580040          841  \n",
       "580041          841  \n",
       "580042          841  \n",
       "580043          841  \n",
       "580044          841  \n",
       "\n",
       "[580045 rows x 17 columns]"
      ]
     },
     "execution_count": 52,
     "metadata": {},
     "output_type": "execute_result"
    }
   ],
   "source": [
    "train_df"
   ]
  },
  {
   "cell_type": "code",
   "execution_count": 30,
   "id": "f304394e",
   "metadata": {},
   "outputs": [
    {
     "name": "stdout",
     "output_type": "stream",
     "text": [
      "0:\tlearn: 0.6078003\ttest: 0.5970795\tbest: 0.5970795 (0)\ttotal: 650ms\tremaining: 5m 24s\n",
      "1:\tlearn: 0.5435937\ttest: 0.5286731\tbest: 0.5286731 (1)\ttotal: 1.26s\tremaining: 5m 13s\n",
      "2:\tlearn: 0.4930607\ttest: 0.4787015\tbest: 0.4787015 (2)\ttotal: 1.68s\tremaining: 4m 38s\n",
      "3:\tlearn: 0.4357631\ttest: 0.4141762\tbest: 0.4141762 (3)\ttotal: 2.3s\tremaining: 4m 45s\n",
      "4:\tlearn: 0.3937721\ttest: 0.3629848\tbest: 0.3629848 (4)\ttotal: 2.98s\tremaining: 4m 55s\n",
      "5:\tlearn: 0.3544856\ttest: 0.3186319\tbest: 0.3186319 (5)\ttotal: 3.54s\tremaining: 4m 51s\n",
      "6:\tlearn: 0.3254188\ttest: 0.2872744\tbest: 0.2872744 (6)\ttotal: 4.07s\tremaining: 4m 46s\n",
      "7:\tlearn: 0.2978495\ttest: 0.2584835\tbest: 0.2584835 (7)\ttotal: 4.82s\tremaining: 4m 56s\n",
      "8:\tlearn: 0.2769320\ttest: 0.2369705\tbest: 0.2369705 (8)\ttotal: 5.47s\tremaining: 4m 58s\n",
      "9:\tlearn: 0.2571559\ttest: 0.2180203\tbest: 0.2180203 (9)\ttotal: 6.32s\tremaining: 5m 9s\n",
      "10:\tlearn: 0.2421561\ttest: 0.2031294\tbest: 0.2031294 (10)\ttotal: 7.18s\tremaining: 5m 19s\n",
      "11:\tlearn: 0.2301190\ttest: 0.1911995\tbest: 0.1911995 (11)\ttotal: 7.54s\tremaining: 5m 6s\n",
      "12:\tlearn: 0.2195940\ttest: 0.1806261\tbest: 0.1806261 (12)\ttotal: 8.23s\tremaining: 5m 8s\n",
      "13:\tlearn: 0.2092098\ttest: 0.1722056\tbest: 0.1722056 (13)\ttotal: 8.97s\tremaining: 5m 11s\n",
      "14:\tlearn: 0.2000224\ttest: 0.1642849\tbest: 0.1642849 (14)\ttotal: 9.65s\tremaining: 5m 12s\n",
      "15:\tlearn: 0.1930315\ttest: 0.1579655\tbest: 0.1579655 (15)\ttotal: 10.4s\tremaining: 5m 13s\n",
      "16:\tlearn: 0.1864582\ttest: 0.1526754\tbest: 0.1526754 (16)\ttotal: 11.1s\tremaining: 5m 16s\n",
      "17:\tlearn: 0.1810720\ttest: 0.1483791\tbest: 0.1483791 (17)\ttotal: 11.8s\tremaining: 5m 14s\n",
      "18:\tlearn: 0.1764654\ttest: 0.1445616\tbest: 0.1445616 (18)\ttotal: 12.4s\tremaining: 5m 12s\n",
      "19:\tlearn: 0.1722724\ttest: 0.1414583\tbest: 0.1414583 (19)\ttotal: 13.1s\tremaining: 5m 13s\n",
      "20:\tlearn: 0.1693098\ttest: 0.1391496\tbest: 0.1391496 (20)\ttotal: 13.4s\tremaining: 5m 6s\n",
      "21:\tlearn: 0.1654034\ttest: 0.1362380\tbest: 0.1362380 (21)\ttotal: 13.9s\tremaining: 5m 3s\n",
      "22:\tlearn: 0.1625848\ttest: 0.1343325\tbest: 0.1343325 (22)\ttotal: 14.6s\tremaining: 5m 2s\n",
      "23:\tlearn: 0.1595158\ttest: 0.1322153\tbest: 0.1322153 (23)\ttotal: 15.1s\tremaining: 4m 59s\n",
      "24:\tlearn: 0.1570600\ttest: 0.1304294\tbest: 0.1304294 (24)\ttotal: 15.8s\tremaining: 4m 59s\n",
      "25:\tlearn: 0.1551101\ttest: 0.1292144\tbest: 0.1292144 (25)\ttotal: 16.4s\tremaining: 4m 58s\n",
      "26:\tlearn: 0.1537132\ttest: 0.1283093\tbest: 0.1283093 (26)\ttotal: 17s\tremaining: 4m 58s\n",
      "27:\tlearn: 0.1521701\ttest: 0.1274344\tbest: 0.1274344 (27)\ttotal: 17.8s\tremaining: 4m 59s\n",
      "28:\tlearn: 0.1505027\ttest: 0.1263908\tbest: 0.1263908 (28)\ttotal: 18.5s\tremaining: 5m\n",
      "29:\tlearn: 0.1494162\ttest: 0.1258509\tbest: 0.1258509 (29)\ttotal: 19.2s\tremaining: 5m 1s\n",
      "30:\tlearn: 0.1481292\ttest: 0.1253025\tbest: 0.1253025 (30)\ttotal: 20s\tremaining: 5m 2s\n",
      "31:\tlearn: 0.1468026\ttest: 0.1247880\tbest: 0.1247880 (31)\ttotal: 20.6s\tremaining: 5m 1s\n",
      "32:\tlearn: 0.1456203\ttest: 0.1243914\tbest: 0.1243914 (32)\ttotal: 21.4s\tremaining: 5m 3s\n",
      "33:\tlearn: 0.1443405\ttest: 0.1235896\tbest: 0.1235896 (33)\ttotal: 22.1s\tremaining: 5m 2s\n",
      "34:\tlearn: 0.1432613\ttest: 0.1232166\tbest: 0.1232166 (34)\ttotal: 22.6s\tremaining: 5m\n",
      "35:\tlearn: 0.1422257\ttest: 0.1228262\tbest: 0.1228262 (35)\ttotal: 23.2s\tremaining: 4m 58s\n",
      "36:\tlearn: 0.1412911\ttest: 0.1226324\tbest: 0.1226324 (36)\ttotal: 23.8s\tremaining: 4m 57s\n",
      "37:\tlearn: 0.1406248\ttest: 0.1225680\tbest: 0.1225680 (37)\ttotal: 24.2s\tremaining: 4m 54s\n",
      "38:\tlearn: 0.1399635\ttest: 0.1224616\tbest: 0.1224616 (38)\ttotal: 24.6s\tremaining: 4m 50s\n",
      "39:\tlearn: 0.1393640\ttest: 0.1224673\tbest: 0.1224616 (38)\ttotal: 25.1s\tremaining: 4m 48s\n",
      "40:\tlearn: 0.1388092\ttest: 0.1224472\tbest: 0.1224472 (40)\ttotal: 25.7s\tremaining: 4m 47s\n",
      "41:\tlearn: 0.1379878\ttest: 0.1223951\tbest: 0.1223951 (41)\ttotal: 26.2s\tremaining: 4m 45s\n",
      "42:\tlearn: 0.1375278\ttest: 0.1224374\tbest: 0.1223951 (41)\ttotal: 26.7s\tremaining: 4m 43s\n",
      "43:\tlearn: 0.1368483\ttest: 0.1224916\tbest: 0.1223951 (41)\ttotal: 27.1s\tremaining: 4m 40s\n",
      "44:\tlearn: 0.1363383\ttest: 0.1224689\tbest: 0.1223951 (41)\ttotal: 27.5s\tremaining: 4m 37s\n",
      "45:\tlearn: 0.1358995\ttest: 0.1224330\tbest: 0.1223951 (41)\ttotal: 27.9s\tremaining: 4m 35s\n",
      "46:\tlearn: 0.1349766\ttest: 0.1222209\tbest: 0.1222209 (46)\ttotal: 28.5s\tremaining: 4m 34s\n",
      "47:\tlearn: 0.1346378\ttest: 0.1222413\tbest: 0.1222209 (46)\ttotal: 28.8s\tremaining: 4m 31s\n",
      "48:\tlearn: 0.1341518\ttest: 0.1222200\tbest: 0.1222200 (48)\ttotal: 29.2s\tremaining: 4m 29s\n",
      "49:\tlearn: 0.1337142\ttest: 0.1222121\tbest: 0.1222121 (49)\ttotal: 29.6s\tremaining: 4m 26s\n",
      "50:\tlearn: 0.1333002\ttest: 0.1222609\tbest: 0.1222121 (49)\ttotal: 29.9s\tremaining: 4m 23s\n",
      "51:\tlearn: 0.1329416\ttest: 0.1222692\tbest: 0.1222121 (49)\ttotal: 30.3s\tremaining: 4m 20s\n",
      "52:\tlearn: 0.1325138\ttest: 0.1220720\tbest: 0.1220720 (52)\ttotal: 30.7s\tremaining: 4m 19s\n",
      "53:\tlearn: 0.1322437\ttest: 0.1221292\tbest: 0.1220720 (52)\ttotal: 31.2s\tremaining: 4m 17s\n",
      "54:\tlearn: 0.1319234\ttest: 0.1221853\tbest: 0.1220720 (52)\ttotal: 31.6s\tremaining: 4m 15s\n",
      "55:\tlearn: 0.1315655\ttest: 0.1221044\tbest: 0.1220720 (52)\ttotal: 32.3s\tremaining: 4m 15s\n",
      "56:\tlearn: 0.1309683\ttest: 0.1218496\tbest: 0.1218496 (56)\ttotal: 32.7s\tremaining: 4m 14s\n",
      "57:\tlearn: 0.1305868\ttest: 0.1215113\tbest: 0.1215113 (57)\ttotal: 33.2s\tremaining: 4m 13s\n",
      "58:\tlearn: 0.1302803\ttest: 0.1214448\tbest: 0.1214448 (58)\ttotal: 33.6s\tremaining: 4m 11s\n",
      "59:\tlearn: 0.1295947\ttest: 0.1213472\tbest: 0.1213472 (59)\ttotal: 34.1s\tremaining: 4m 9s\n",
      "60:\tlearn: 0.1291801\ttest: 0.1211545\tbest: 0.1211545 (60)\ttotal: 34.5s\tremaining: 4m 8s\n",
      "61:\tlearn: 0.1290310\ttest: 0.1212076\tbest: 0.1211545 (60)\ttotal: 34.9s\tremaining: 4m 6s\n",
      "62:\tlearn: 0.1288597\ttest: 0.1211981\tbest: 0.1211545 (60)\ttotal: 35.3s\tremaining: 4m 4s\n",
      "63:\tlearn: 0.1286606\ttest: 0.1211473\tbest: 0.1211473 (63)\ttotal: 35.7s\tremaining: 4m 2s\n",
      "64:\tlearn: 0.1285282\ttest: 0.1212672\tbest: 0.1211473 (63)\ttotal: 36.2s\tremaining: 4m 1s\n",
      "65:\tlearn: 0.1284340\ttest: 0.1212399\tbest: 0.1211473 (63)\ttotal: 36.5s\tremaining: 4m\n",
      "66:\tlearn: 0.1281557\ttest: 0.1211723\tbest: 0.1211473 (63)\ttotal: 37s\tremaining: 3m 59s\n",
      "67:\tlearn: 0.1280219\ttest: 0.1213707\tbest: 0.1211473 (63)\ttotal: 37.6s\tremaining: 3m 59s\n",
      "68:\tlearn: 0.1274763\ttest: 0.1209608\tbest: 0.1209608 (68)\ttotal: 38.3s\tremaining: 3m 59s\n",
      "69:\tlearn: 0.1269546\ttest: 0.1205650\tbest: 0.1205650 (69)\ttotal: 39s\tremaining: 3m 59s\n",
      "70:\tlearn: 0.1266002\ttest: 0.1204267\tbest: 0.1204267 (70)\ttotal: 39.7s\tremaining: 3m 59s\n",
      "71:\tlearn: 0.1261904\ttest: 0.1201258\tbest: 0.1201258 (71)\ttotal: 40.3s\tremaining: 3m 59s\n",
      "72:\tlearn: 0.1260890\ttest: 0.1200617\tbest: 0.1200617 (72)\ttotal: 41.1s\tremaining: 4m\n",
      "73:\tlearn: 0.1259287\ttest: 0.1198227\tbest: 0.1198227 (73)\ttotal: 41.7s\tremaining: 4m\n",
      "74:\tlearn: 0.1257745\ttest: 0.1196231\tbest: 0.1196231 (74)\ttotal: 42.3s\tremaining: 3m 59s\n",
      "75:\tlearn: 0.1256599\ttest: 0.1196185\tbest: 0.1196185 (75)\ttotal: 42.8s\tremaining: 3m 58s\n",
      "76:\tlearn: 0.1255539\ttest: 0.1196028\tbest: 0.1196028 (76)\ttotal: 43.5s\tremaining: 3m 59s\n",
      "77:\tlearn: 0.1254713\ttest: 0.1196045\tbest: 0.1196028 (76)\ttotal: 44.1s\tremaining: 3m 58s\n",
      "78:\tlearn: 0.1252637\ttest: 0.1196334\tbest: 0.1196028 (76)\ttotal: 44.6s\tremaining: 3m 57s\n",
      "79:\tlearn: 0.1251558\ttest: 0.1196807\tbest: 0.1196028 (76)\ttotal: 45s\tremaining: 3m 56s\n",
      "80:\tlearn: 0.1248438\ttest: 0.1194407\tbest: 0.1194407 (80)\ttotal: 45.5s\tremaining: 3m 55s\n",
      "81:\tlearn: 0.1246321\ttest: 0.1192837\tbest: 0.1192837 (81)\ttotal: 46.1s\tremaining: 3m 54s\n",
      "82:\tlearn: 0.1244545\ttest: 0.1191043\tbest: 0.1191043 (82)\ttotal: 46.7s\tremaining: 3m 54s\n",
      "83:\tlearn: 0.1242396\ttest: 0.1190271\tbest: 0.1190271 (83)\ttotal: 47.3s\tremaining: 3m 54s\n",
      "84:\tlearn: 0.1241463\ttest: 0.1189918\tbest: 0.1189918 (84)\ttotal: 48.2s\tremaining: 3m 55s\n",
      "85:\tlearn: 0.1239387\ttest: 0.1189980\tbest: 0.1189918 (84)\ttotal: 48.7s\tremaining: 3m 54s\n",
      "86:\tlearn: 0.1237540\ttest: 0.1188689\tbest: 0.1188689 (86)\ttotal: 49.3s\tremaining: 3m 54s\n",
      "87:\tlearn: 0.1236720\ttest: 0.1188356\tbest: 0.1188356 (87)\ttotal: 50s\tremaining: 3m 54s\n",
      "88:\tlearn: 0.1235380\ttest: 0.1188418\tbest: 0.1188356 (87)\ttotal: 50.7s\tremaining: 3m 54s\n",
      "89:\tlearn: 0.1234073\ttest: 0.1188371\tbest: 0.1188356 (87)\ttotal: 51.4s\tremaining: 3m 54s\n",
      "90:\tlearn: 0.1232706\ttest: 0.1187993\tbest: 0.1187993 (90)\ttotal: 52.1s\tremaining: 3m 54s\n",
      "91:\tlearn: 0.1231421\ttest: 0.1187646\tbest: 0.1187646 (91)\ttotal: 52.8s\tremaining: 3m 54s\n",
      "92:\tlearn: 0.1230748\ttest: 0.1187793\tbest: 0.1187646 (91)\ttotal: 53.6s\tremaining: 3m 54s\n"
     ]
    },
    {
     "name": "stdout",
     "output_type": "stream",
     "text": [
      "93:\tlearn: 0.1229306\ttest: 0.1186580\tbest: 0.1186580 (93)\ttotal: 54.2s\tremaining: 3m 54s\n",
      "94:\tlearn: 0.1228214\ttest: 0.1187095\tbest: 0.1186580 (93)\ttotal: 54.6s\tremaining: 3m 52s\n",
      "95:\tlearn: 0.1226867\ttest: 0.1187507\tbest: 0.1186580 (93)\ttotal: 54.9s\tremaining: 3m 51s\n",
      "96:\tlearn: 0.1225988\ttest: 0.1187315\tbest: 0.1186580 (93)\ttotal: 55.5s\tremaining: 3m 50s\n",
      "97:\tlearn: 0.1225112\ttest: 0.1185684\tbest: 0.1185684 (97)\ttotal: 56.1s\tremaining: 3m 50s\n",
      "98:\tlearn: 0.1223720\ttest: 0.1185369\tbest: 0.1185369 (98)\ttotal: 56.7s\tremaining: 3m 49s\n",
      "99:\tlearn: 0.1222629\ttest: 0.1185154\tbest: 0.1185154 (99)\ttotal: 57.3s\tremaining: 3m 49s\n",
      "100:\tlearn: 0.1222076\ttest: 0.1184985\tbest: 0.1184985 (100)\ttotal: 58s\tremaining: 3m 49s\n",
      "101:\tlearn: 0.1220113\ttest: 0.1184881\tbest: 0.1184881 (101)\ttotal: 58.7s\tremaining: 3m 48s\n",
      "102:\tlearn: 0.1219162\ttest: 0.1185293\tbest: 0.1184881 (101)\ttotal: 59.2s\tremaining: 3m 48s\n",
      "103:\tlearn: 0.1218407\ttest: 0.1185273\tbest: 0.1184881 (101)\ttotal: 59.8s\tremaining: 3m 47s\n",
      "104:\tlearn: 0.1216750\ttest: 0.1183953\tbest: 0.1183953 (104)\ttotal: 1m\tremaining: 3m 47s\n",
      "105:\tlearn: 0.1216055\ttest: 0.1182517\tbest: 0.1182517 (105)\ttotal: 1m\tremaining: 3m 46s\n",
      "106:\tlearn: 0.1215364\ttest: 0.1182795\tbest: 0.1182517 (105)\ttotal: 1m 1s\tremaining: 3m 45s\n",
      "107:\tlearn: 0.1214017\ttest: 0.1181790\tbest: 0.1181790 (107)\ttotal: 1m 2s\tremaining: 3m 45s\n",
      "108:\tlearn: 0.1213212\ttest: 0.1181873\tbest: 0.1181790 (107)\ttotal: 1m 2s\tremaining: 3m 45s\n",
      "109:\tlearn: 0.1212807\ttest: 0.1181848\tbest: 0.1181790 (107)\ttotal: 1m 3s\tremaining: 3m 45s\n",
      "110:\tlearn: 0.1212321\ttest: 0.1182462\tbest: 0.1181790 (107)\ttotal: 1m 4s\tremaining: 3m 44s\n",
      "111:\tlearn: 0.1211844\ttest: 0.1182924\tbest: 0.1181790 (107)\ttotal: 1m 4s\tremaining: 3m 44s\n",
      "112:\tlearn: 0.1210070\ttest: 0.1183024\tbest: 0.1181790 (107)\ttotal: 1m 5s\tremaining: 3m 44s\n",
      "113:\tlearn: 0.1209331\ttest: 0.1182752\tbest: 0.1181790 (107)\ttotal: 1m 6s\tremaining: 3m 43s\n",
      "114:\tlearn: 0.1208720\ttest: 0.1182817\tbest: 0.1181790 (107)\ttotal: 1m 6s\tremaining: 3m 43s\n",
      "115:\tlearn: 0.1208088\ttest: 0.1182966\tbest: 0.1181790 (107)\ttotal: 1m 7s\tremaining: 3m 43s\n",
      "116:\tlearn: 0.1207691\ttest: 0.1182686\tbest: 0.1181790 (107)\ttotal: 1m 8s\tremaining: 3m 43s\n",
      "117:\tlearn: 0.1206904\ttest: 0.1182771\tbest: 0.1181790 (107)\ttotal: 1m 8s\tremaining: 3m 42s\n",
      "Stopped by overfitting detector  (10 iterations wait)\n",
      "\n",
      "bestTest = 0.1181790151\n",
      "bestIteration = 107\n",
      "\n",
      "Shrink model to first 108 iterations.\n"
     ]
    },
    {
     "data": {
      "text/plain": [
       "<catboost.core.CatBoostClassifier at 0x7f77b2d319a0>"
      ]
     },
     "execution_count": 30,
     "metadata": {},
     "output_type": "execute_result"
    }
   ],
   "source": [
    "\n",
    "categorical_features = pipeline.cat_feats\n",
    "\n",
    "train_pool = Pool(train_df, train_target, categorical_features)\n",
    "test_pool = Pool(test_df, test_target, categorical_features)\n",
    "\n",
    "ctb_clsf_model = CatBoostClassifier(iterations=500, max_depth=5, learning_rate=0.05, random_seed=42)\n",
    "ctb_clsf_model.fit(train_df, train_target, eval_set=test_pool, cat_features=categorical_features, use_best_model=True, early_stopping_rounds=10)\n"
   ]
  },
  {
   "cell_type": "code",
   "execution_count": 47,
   "id": "3207ede6",
   "metadata": {},
   "outputs": [
    {
     "data": {
      "text/plain": [
       "Text(0.5, 1.0, 'Feature Importance')"
      ]
     },
     "execution_count": 47,
     "metadata": {},
     "output_type": "execute_result"
    },
    {
     "data": {
      "image/png": "[encoded data removed]",
      "text/plain": [
       "<Figure size 800x600 with 1 Axes>"
      ]
     },
     "metadata": {},
     "output_type": "display_data"
    }
   ],
   "source": [
    "feature_importance = ctb_clsf_model.feature_importances_\n",
    "sorted_idx = np.argsort(feature_importance)\n",
    "fig = plt.figure(figsize=(8, 6))\n",
    "plt.barh(range(len(sorted_idx)), feature_importance[sorted_idx], align='center')\n",
    "plt.yticks(range(len(sorted_idx)), np.array(test_df.columns)[sorted_idx])\n",
    "plt.title('Feature Importance')\n"
   ]
  },
  {
   "cell_type": "code",
   "execution_count": 38,
   "id": "ce475ac4",
   "metadata": {},
   "outputs": [],
   "source": [
    "full_df = pd.concat([train_df, train_target], axis=1)"
   ]
  },
  {
   "cell_type": "code",
   "execution_count": 43,
   "id": "df5712b5",
   "metadata": {},
   "outputs": [],
   "source": [
    "analyse_df = df.drop(columns= ['RequestID', 'EmployeeId', 'ClientID'] )"
   ]
  },
  {
   "cell_type": "code",
   "execution_count": 46,
   "id": "8f675f8d",
   "metadata": {},
   "outputs": [
    {
     "data": {
      "text/plain": [
       "<Axes: >"
      ]
     },
     "execution_count": 46,
     "metadata": {},
     "output_type": "execute_result"
    },
    {
     "data": {
      "image/png": "[encoded data removed]",
      "text/plain": [
       "<Figure size 640x480 with 2 Axes>"
      ]
     },
     "metadata": {},
     "output_type": "display_data"
    }
   ],
   "source": [
    "sns.heatmap(analyse_df.corr(), annot = True)"
   ]
  },
  {
   "cell_type": "markdown",
   "id": "435d9bfc",
   "metadata": {},
   "source": [
    "### Загрузка и обработка тестового датасета"
   ]
  },
  {
   "cell_type": "code",
   "execution_count": 118,
   "id": "44428bb0",
   "metadata": {},
   "outputs": [],
   "source": [
    "check_df = pd.read_excel('./test_to_check.xlsx')"
   ]
  },
  {
   "cell_type": "code",
   "execution_count": 123,
   "id": "537cb40f",
   "metadata": {},
   "outputs": [
    {
     "data": {
      "text/html": [
       "<div>\n",
       "<style scoped>\n",
       "    .dataframe tbody tr th:only-of-type {\n",
       "        vertical-align: middle;\n",
       "    }\n",
       "\n",
       "    .dataframe tbody tr th {\n",
       "        vertical-align: top;\n",
       "    }\n",
       "\n",
       "    .dataframe thead th {\n",
       "        text-align: right;\n",
       "    }\n",
       "</style>\n",
       "<table border=\"1\" class=\"dataframe\">\n",
       "  <thead>\n",
       "    <tr style=\"text-align: right;\">\n",
       "      <th></th>\n",
       "      <th>ID</th>\n",
       "      <th>RequestID</th>\n",
       "      <th>EmployeeId</th>\n",
       "      <th>RequestDate</th>\n",
       "      <th>ClientID</th>\n",
       "      <th>TravellerGrade</th>\n",
       "      <th>SearchRoute</th>\n",
       "      <th>RequestDepartureDate</th>\n",
       "      <th>RequestReturnDate</th>\n",
       "      <th>FligtOption</th>\n",
       "      <th>...</th>\n",
       "      <th>ReturnArrivalDate</th>\n",
       "      <th>SegmentCount</th>\n",
       "      <th>Amount</th>\n",
       "      <th>class</th>\n",
       "      <th>IsBaggage</th>\n",
       "      <th>isRefundPermitted</th>\n",
       "      <th>isExchangePermitted</th>\n",
       "      <th>isDiscount</th>\n",
       "      <th>InTravelPolicy</th>\n",
       "      <th>Position ( from 1 to n)</th>\n",
       "    </tr>\n",
       "  </thead>\n",
       "  <tbody>\n",
       "    <tr>\n",
       "      <th>0</th>\n",
       "      <td>1</td>\n",
       "      <td>4237570</td>\n",
       "      <td>3498</td>\n",
       "      <td>2022-06-06 15:17:03.833</td>\n",
       "      <td>1952</td>\n",
       "      <td>NaN</td>\n",
       "      <td>ALAMOW</td>\n",
       "      <td>2022-06-24 00:00:00.000</td>\n",
       "      <td>NaN</td>\n",
       "      <td>SU6536 ALASVO 2022.06.24</td>\n",
       "      <td>...</td>\n",
       "      <td>NaN</td>\n",
       "      <td>1</td>\n",
       "      <td>53181.0</td>\n",
       "      <td>E</td>\n",
       "      <td>1</td>\n",
       "      <td>0.0</td>\n",
       "      <td>1.0</td>\n",
       "      <td>0</td>\n",
       "      <td>1</td>\n",
       "      <td>NaN</td>\n",
       "    </tr>\n",
       "    <tr>\n",
       "      <th>1</th>\n",
       "      <td>2</td>\n",
       "      <td>4237570</td>\n",
       "      <td>3498</td>\n",
       "      <td>2022-06-06 15:17:03.833</td>\n",
       "      <td>1952</td>\n",
       "      <td>NaN</td>\n",
       "      <td>ALAMOW</td>\n",
       "      <td>2022-06-24 00:00:00.000</td>\n",
       "      <td>NaN</td>\n",
       "      <td>DV0815 ALAVKO 2022.06.24</td>\n",
       "      <td>...</td>\n",
       "      <td>NaN</td>\n",
       "      <td>1</td>\n",
       "      <td>26247.0</td>\n",
       "      <td>E</td>\n",
       "      <td>1</td>\n",
       "      <td>NaN</td>\n",
       "      <td>NaN</td>\n",
       "      <td>0</td>\n",
       "      <td>1</td>\n",
       "      <td>NaN</td>\n",
       "    </tr>\n",
       "  </tbody>\n",
       "</table>\n",
       "<p>2 rows × 23 columns</p>\n",
       "</div>"
      ],
      "text/plain": [
       "   ID  RequestID  EmployeeId              RequestDate  ClientID  \\\n",
       "0   1    4237570        3498  2022-06-06 15:17:03.833      1952   \n",
       "1   2    4237570        3498  2022-06-06 15:17:03.833      1952   \n",
       "\n",
       "  TravellerGrade SearchRoute     RequestDepartureDate RequestReturnDate  \\\n",
       "0            NaN      ALAMOW  2022-06-24 00:00:00.000               NaN   \n",
       "1            NaN      ALAMOW  2022-06-24 00:00:00.000               NaN   \n",
       "\n",
       "                FligtOption  ... ReturnArrivalDate SegmentCount   Amount  \\\n",
       "0  SU6536 ALASVO 2022.06.24  ...               NaN            1  53181.0   \n",
       "1  DV0815 ALAVKO 2022.06.24  ...               NaN            1  26247.0   \n",
       "\n",
       "  class  IsBaggage  isRefundPermitted isExchangePermitted  isDiscount  \\\n",
       "0     E          1                0.0                 1.0           0   \n",
       "1     E          1                NaN                 NaN           0   \n",
       "\n",
       "   InTravelPolicy  Position ( from 1 to n)  \n",
       "0               1                      NaN  \n",
       "1               1                      NaN  \n",
       "\n",
       "[2 rows x 23 columns]"
      ]
     },
     "execution_count": 123,
     "metadata": {},
     "output_type": "execute_result"
    }
   ],
   "source": [
    "check_df.head(2)"
   ]
  },
  {
   "cell_type": "code",
   "execution_count": 120,
   "id": "c9c733ae",
   "metadata": {},
   "outputs": [],
   "source": [
    "check_df.rename(columns={'ValueRu':'TravellerGrade'}, inplace=True)"
   ]
  },
  {
   "cell_type": "code",
   "execution_count": 121,
   "id": "c4090eac",
   "metadata": {},
   "outputs": [
    {
     "data": {
      "text/plain": [
       "Index(['ID', 'RequestID', 'EmployeeId', 'RequestDate', 'ClientID',\n",
       "       'TravellerGrade', 'SearchRoute', 'RequestDepartureDate',\n",
       "       'RequestReturnDate', 'FligtOption', 'DepartureDate', 'ArrivalDate',\n",
       "       'ReturnDepatrureDate', 'ReturnArrivalDate', 'SegmentCount', 'Amount',\n",
       "       'class', 'IsBaggage', 'isRefundPermitted', 'isExchangePermitted',\n",
       "       'isDiscount', 'InTravelPolicy', 'Position ( from 1 to n)'],\n",
       "      dtype='object')"
      ]
     },
     "execution_count": 121,
     "metadata": {},
     "output_type": "execute_result"
    }
   ],
   "source": [
    "check_df.columns"
   ]
  },
  {
   "cell_type": "code",
   "execution_count": 232,
   "id": "d63bd221",
   "metadata": {},
   "outputs": [],
   "source": [
    "requests = check_df.RequestID.unique()\n",
    "result_df = pd.DataFrame(columns=check_df.columns.to_list())\n",
    "\n",
    "for req in requests:\n",
    "    n_rows = check_df.loc[check_df.RequestID == req].shape[0]\n",
    "    sort_df = check_df.loc[check_df.RequestID == req].sort_values(['proba'], ascending=False).reset_index()\n",
    "    nummeric = pd.Series([i for i in range(1, n_rows+1)])\n",
    "    result_df = result_df.append(pd.concat([sort_df, nummeric], axis=1))\n",
    "    "
   ]
  },
  {
   "cell_type": "code",
   "execution_count": null,
   "id": "a3b2e7ba",
   "metadata": {},
   "outputs": [],
   "source": [
    "result_df.drop(columns=['Position ( from 1 to n)', 'proba', 'index'], inplace=True)"
   ]
  },
  {
   "cell_type": "code",
   "execution_count": 236,
   "id": "301cf85c",
   "metadata": {},
   "outputs": [
    {
     "data": {
      "text/html": [
       "<div>\n",
       "<style scoped>\n",
       "    .dataframe tbody tr th:only-of-type {\n",
       "        vertical-align: middle;\n",
       "    }\n",
       "\n",
       "    .dataframe tbody tr th {\n",
       "        vertical-align: top;\n",
       "    }\n",
       "\n",
       "    .dataframe thead th {\n",
       "        text-align: right;\n",
       "    }\n",
       "</style>\n",
       "<table border=\"1\" class=\"dataframe\">\n",
       "  <thead>\n",
       "    <tr style=\"text-align: right;\">\n",
       "      <th></th>\n",
       "      <th>ID</th>\n",
       "      <th>RequestID</th>\n",
       "      <th>EmployeeId</th>\n",
       "      <th>RequestDate</th>\n",
       "      <th>ClientID</th>\n",
       "      <th>TravellerGrade</th>\n",
       "      <th>SearchRoute</th>\n",
       "      <th>RequestDepartureDate</th>\n",
       "      <th>RequestReturnDate</th>\n",
       "      <th>FligtOption</th>\n",
       "      <th>...</th>\n",
       "      <th>ReturnArrivalDate</th>\n",
       "      <th>SegmentCount</th>\n",
       "      <th>Amount</th>\n",
       "      <th>class</th>\n",
       "      <th>IsBaggage</th>\n",
       "      <th>isRefundPermitted</th>\n",
       "      <th>isExchangePermitted</th>\n",
       "      <th>isDiscount</th>\n",
       "      <th>InTravelPolicy</th>\n",
       "      <th>Position ( from 1 to n)</th>\n",
       "    </tr>\n",
       "  </thead>\n",
       "  <tbody>\n",
       "    <tr>\n",
       "      <th>0</th>\n",
       "      <td>3</td>\n",
       "      <td>4237570</td>\n",
       "      <td>3498</td>\n",
       "      <td>2022-06-06 15:17:03.833</td>\n",
       "      <td>1952</td>\n",
       "      <td>NaN</td>\n",
       "      <td>ALAMOW</td>\n",
       "      <td>2022-06-24 00:00:00.000</td>\n",
       "      <td>NaN</td>\n",
       "      <td>SU6536 ALASVO 2022.06.24</td>\n",
       "      <td>...</td>\n",
       "      <td>NaN</td>\n",
       "      <td>1</td>\n",
       "      <td>57641.0</td>\n",
       "      <td>E</td>\n",
       "      <td>1</td>\n",
       "      <td>0.0</td>\n",
       "      <td>1.0</td>\n",
       "      <td>0</td>\n",
       "      <td>1</td>\n",
       "      <td>1.0</td>\n",
       "    </tr>\n",
       "    <tr>\n",
       "      <th>1</th>\n",
       "      <td>1</td>\n",
       "      <td>4237570</td>\n",
       "      <td>3498</td>\n",
       "      <td>2022-06-06 15:17:03.833</td>\n",
       "      <td>1952</td>\n",
       "      <td>NaN</td>\n",
       "      <td>ALAMOW</td>\n",
       "      <td>2022-06-24 00:00:00.000</td>\n",
       "      <td>NaN</td>\n",
       "      <td>SU6536 ALASVO 2022.06.24</td>\n",
       "      <td>...</td>\n",
       "      <td>NaN</td>\n",
       "      <td>1</td>\n",
       "      <td>53181.0</td>\n",
       "      <td>E</td>\n",
       "      <td>1</td>\n",
       "      <td>0.0</td>\n",
       "      <td>1.0</td>\n",
       "      <td>0</td>\n",
       "      <td>1</td>\n",
       "      <td>2.0</td>\n",
       "    </tr>\n",
       "  </tbody>\n",
       "</table>\n",
       "<p>2 rows × 23 columns</p>\n",
       "</div>"
      ],
      "text/plain": [
       "  ID RequestID EmployeeId              RequestDate ClientID TravellerGrade  \\\n",
       "0  3   4237570       3498  2022-06-06 15:17:03.833     1952            NaN   \n",
       "1  1   4237570       3498  2022-06-06 15:17:03.833     1952            NaN   \n",
       "\n",
       "  SearchRoute     RequestDepartureDate RequestReturnDate  \\\n",
       "0      ALAMOW  2022-06-24 00:00:00.000               NaN   \n",
       "1      ALAMOW  2022-06-24 00:00:00.000               NaN   \n",
       "\n",
       "                FligtOption  ... ReturnArrivalDate SegmentCount   Amount  \\\n",
       "0  SU6536 ALASVO 2022.06.24  ...               NaN            1  57641.0   \n",
       "1  SU6536 ALASVO 2022.06.24  ...               NaN            1  53181.0   \n",
       "\n",
       "  class IsBaggage  isRefundPermitted isExchangePermitted isDiscount  \\\n",
       "0     E         1                0.0                 1.0          0   \n",
       "1     E         1                0.0                 1.0          0   \n",
       "\n",
       "   InTravelPolicy  Position ( from 1 to n)  \n",
       "0               1                      1.0  \n",
       "1               1                      2.0  \n",
       "\n",
       "[2 rows x 23 columns]"
      ]
     },
     "execution_count": 236,
     "metadata": {},
     "output_type": "execute_result"
    }
   ],
   "source": [
    "result_df.rename(columns={0: 'Position ( from 1 to n)'}, inplace=True)\n",
    "result_df.head(2)"
   ]
  },
  {
   "cell_type": "code",
   "execution_count": 244,
   "id": "0b7fbc4d",
   "metadata": {
    "scrolled": true
   },
   "outputs": [
    {
     "name": "stderr",
     "output_type": "stream",
     "text": [
      "100%|█████████████████████████████████████| 5440/5440 [00:00<00:00, 6942.15it/s]\n",
      "Set timezones 1/4: 100%|███████████████████████| 40/40 [00:00<00:00, 135.85it/s]\n",
      "Set timezones 2/4: 100%|███████████████████████| 49/49 [00:00<00:00, 134.79it/s]\n",
      "Set timezones 3/4: 100%|███████████████████████| 23/23 [00:00<00:00, 172.65it/s]\n",
      "Set timezones 4/4: 100%|███████████████████████| 11/11 [00:00<00:00, 169.35it/s]\n"
     ]
    }
   ],
   "source": [
    "pipeline.get_xls_result(check_df, './result.xls')"
   ]
  }
 ],
 "metadata": {
  "kernelspec": {
   "display_name": "hack_aero_env",
   "language": "python",
   "name": "hack_aero_env"
  },
  "language_info": {
   "codemirror_mode": {
    "name": "ipython",
    "version": 3
   },
   "file_extension": ".py",
   "mimetype": "text/x-python",
   "name": "python",
   "nbconvert_exporter": "python",
   "pygments_lexer": "ipython3",
   "version": "3.8.16"
  }
 },
 "nbformat": 4,
 "nbformat_minor": 5
}
